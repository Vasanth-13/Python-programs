{
 "cells": [
  {
   "cell_type": "markdown",
   "metadata": {},
   "source": [
    "Python Tuples"
   ]
  },
  {
   "cell_type": "code",
   "execution_count": 6,
   "metadata": {},
   "outputs": [
    {
     "name": "stdout",
     "output_type": "stream",
     "text": [
      "()\n",
      "<class 'tuple'>\n"
     ]
    }
   ],
   "source": [
    "# 1)Write a Python program to create a tuple \n",
    "\n",
    "tup=tuple()\n",
    "print(tup)\n",
    "print(type(tup))"
   ]
  },
  {
   "cell_type": "code",
   "execution_count": 8,
   "metadata": {},
   "outputs": [
    {
     "name": "stdout",
     "output_type": "stream",
     "text": [
      "(1, 1.2, 'apple', [2, 3, 4], (1, 2, 3), {'apple', 12}, {1: 'vimal', 2: 'kasi'})\n",
      "\n",
      "\n",
      "1 : <class 'int'>\n",
      "1.2 : <class 'float'>\n",
      "apple : <class 'str'>\n",
      "[2, 3, 4] : <class 'list'>\n",
      "(1, 2, 3) : <class 'tuple'>\n",
      "{'apple', 12} : <class 'set'>\n",
      "{1: 'vimal', 2: 'kasi'} : <class 'dict'>\n"
     ]
    }
   ],
   "source": [
    "# 2) Write a Python program to create a tuple with different data types\n",
    "\n",
    "tup=(1,1.2,\"apple\",[2,3,4],(1,2,3),{\"apple\",12},{1:\"vimal\",2:\"kasi\"})\n",
    "print(tup)\n",
    "print(\"\\n\")\n",
    "for i in tup:\n",
    "    print(i,\":\",type(i))"
   ]
  },
  {
   "cell_type": "code",
   "execution_count": 10,
   "metadata": {},
   "outputs": [
    {
     "name": "stdout",
     "output_type": "stream",
     "text": [
      "5\n",
      "2\n"
     ]
    }
   ],
   "source": [
    "# 3) Write a Python program to create a tuple with numbers and print one item.\n",
    "\n",
    "from random import choice\n",
    "tup=(1,2,3,4,5,6)\n",
    "print(choice(tup))  #print one random item from the tuple\n",
    "\n",
    "#### Alternative Method ####\n",
    "tup=(1,2,3,4,5,6)\n",
    "print(tup[1])"
   ]
  },
  {
   "cell_type": "code",
   "execution_count": 11,
   "metadata": {},
   "outputs": [
    {
     "name": "stdout",
     "output_type": "stream",
     "text": [
      "1\t2\t3\n"
     ]
    }
   ],
   "source": [
    "# 4) Write a Python program to unpack a tuple in several variables.\n",
    "(a,b,c)=(1,2,3)\n",
    "print(a,b,c,sep=\"\\t\")"
   ]
  },
  {
   "cell_type": "code",
   "execution_count": 15,
   "metadata": {},
   "outputs": [
    {
     "name": "stdout",
     "output_type": "stream",
     "text": [
      "Original Tuple: (1, 2, 3, 4, 5)\n",
      "Expected output: (1, 2, 3, 4, 5, 9)\n",
      "\n",
      "\n",
      "Original Tuple: (1, 2, 3, 4, 5, 6)\n",
      "Expected output: (1, 2, 3, 5, 6)\n"
     ]
    }
   ],
   "source": [
    "# 5) Write a Python program to add an item in a tuple\n",
    "\n",
    "# As tuple is immutable, We can't add/remove an item from the tuple\n",
    "\n",
    "tup=(1,2,3,4,5)\n",
    "list1=list(tup)\n",
    "list1.append(9)\n",
    "print(\"Original Tuple: {}\".format(tup))\n",
    "print(\"Expected output: {}\".format(tuple(list1)))\n",
    "print(\"\\n\")\n",
    "\n",
    "####Alternative method #####\n",
    "tup=(1,2,3,4,5,6)\n",
    "print(\"Original Tuple: {}\".format(tup))\n",
    "tup1=tup[:3]+tup[4:]   #Removing item 4 from tup\n",
    "print(\"Expected output: {}\".format(tup1))"
   ]
  },
  {
   "cell_type": "code",
   "execution_count": 16,
   "metadata": {},
   "outputs": [
    {
     "name": "stdout",
     "output_type": "stream",
     "text": [
      "exercise\n"
     ]
    }
   ],
   "source": [
    "# 6) Write a Python program to convert a tuple to a string\n",
    "\n",
    "tup=(\"e\",\"x\",\"e\",\"r\",\"c\",\"i\",\"s\",\"e\")\n",
    "str1=\"\".join(tup)\n",
    "print(str1)"
   ]
  },
  {
   "cell_type": "code",
   "execution_count": 17,
   "metadata": {},
   "outputs": [
    {
     "name": "stdout",
     "output_type": "stream",
     "text": [
      "4th element: 4\n",
      "4th element from last: 7\n"
     ]
    }
   ],
   "source": [
    "# 7) Write a Python program to get the 4th element and 4th element from last of a tuple\n",
    "\n",
    "tup=(1,2,3,4,5,6,7,8,9,0)\n",
    "print(\"4th element: {}\".format(tup[3]))  # Accessing 4th element from first\n",
    "print(\"4th element from last: {}\".format(tup[-4]))  # Accessing 4th element from last"
   ]
  },
  {
   "cell_type": "code",
   "execution_count": 2,
   "metadata": {},
   "outputs": [
    {
     "name": "stdout",
     "output_type": "stream",
     "text": [
      "3 is repeated 2 times\n",
      "4 is repeated 2 times\n",
      "5 is repeated 2 times\n",
      "8 is repeated 2 times\n"
     ]
    }
   ],
   "source": [
    "# 8)  Write a Python program to find the repeated items of a tuple.\n",
    "\n",
    "tup=(1,2,3,4,4,5,5,6,3,7,0,8,8,9)\n",
    "list1=list(tup)\n",
    "set1=set(tup)\n",
    "for i in set1:\n",
    "    if list1.count(i)>1:\n",
    "        print(\"{} is repeated {} times\".format(i,list1.count(i)))"
   ]
  },
  {
   "cell_type": "code",
   "execution_count": 4,
   "metadata": {},
   "outputs": [
    {
     "name": "stdout",
     "output_type": "stream",
     "text": [
      "Enter the item to check: 1\n",
      "Yes\n"
     ]
    }
   ],
   "source": [
    "# 9) Write a Python program to check whether an element exists within a tuple\n",
    "\n",
    "tup=(\"1\",\"a\",\"f\",\"g\",\"3\",\"6\")\n",
    "char=input(\"Enter the item to check: \")\n",
    "if char in tup:\n",
    "    print(\"Yes\")\n",
    "else:\n",
    "    print(\"No\")"
   ]
  },
  {
   "cell_type": "code",
   "execution_count": 5,
   "metadata": {},
   "outputs": [
    {
     "name": "stdout",
     "output_type": "stream",
     "text": [
      "(1, 2, 3, 4, 5, 5, 6)\n",
      "<class 'tuple'>\n"
     ]
    }
   ],
   "source": [
    "# 10) Write a Python program to convert a list to a tuple.\n",
    "\n",
    "list1=[1,2,3,4,5,5,6]\n",
    "tup=tuple(list1)\n",
    "print(tup)\n",
    "print(type(tup))"
   ]
  },
  {
   "cell_type": "code",
   "execution_count": 6,
   "metadata": {},
   "outputs": [
    {
     "name": "stdout",
     "output_type": "stream",
     "text": [
      "(1, 2, 3, 4, 5)\n"
     ]
    }
   ],
   "source": [
    "# 11) Write a Python program to remove an item from a tuple\n",
    "\n",
    "# we can't remove an item(s) from tuple because tuple is immutable\n",
    "\n",
    "#### Method-1 ####\n",
    "\n",
    "tup=(1,2,3,4,5,6)\n",
    "list1=list(tup)\n",
    "list1.remove(6)    # removing 6 from the list\n",
    "print(tuple(list1))"
   ]
  },
  {
   "cell_type": "code",
   "execution_count": 7,
   "metadata": {},
   "outputs": [
    {
     "name": "stdout",
     "output_type": "stream",
     "text": [
      "(5, 6, 7, 8, 9)\n",
      "(4, 5, 6, 7, 8)\n"
     ]
    }
   ],
   "source": [
    "# 12)  Write a Python program to slice a tuple.\n",
    "\n",
    "tup=(1,2,3,4,5,6,7,8,9)\n",
    "print(tup[4:9])\n",
    "print(tup[3:8])"
   ]
  },
  {
   "cell_type": "code",
   "execution_count": 8,
   "metadata": {},
   "outputs": [
    {
     "name": "stdout",
     "output_type": "stream",
     "text": [
      "Length of the tuple: 7\n"
     ]
    }
   ],
   "source": [
    "# 13)  Write a Python program to find the length of a tuple. \n",
    "\n",
    "tup=(1,2,3,4,5,6,7)\n",
    "print(\"Length of the tuple: {}\".format(len(tup)))"
   ]
  },
  {
   "cell_type": "code",
   "execution_count": 11,
   "metadata": {},
   "outputs": [
    {
     "name": "stdout",
     "output_type": "stream",
     "text": [
      "2\n"
     ]
    }
   ],
   "source": [
    "# 14)  Write a Python program to find the index of an item of a tuple\n",
    "\n",
    "tup=(\"a\",\"d\",\"r\",\"w\",\"f\")\n",
    "print(tup.index(\"r\"))"
   ]
  },
  {
   "cell_type": "code",
   "execution_count": 13,
   "metadata": {},
   "outputs": [
    {
     "name": "stdout",
     "output_type": "stream",
     "text": [
      "Reversed tuple: (8, 7, 6, 5, 4, 3, 2, 1)\n"
     ]
    }
   ],
   "source": [
    "# 15) Write a Python program to reverse a tuple.\n",
    "\n",
    "tup=(1,2,3,4,5,6,7,8)\n",
    "print(\"Reversed tuple: {}\".format(tup[::-1]))"
   ]
  },
  {
   "cell_type": "code",
   "execution_count": 14,
   "metadata": {},
   "outputs": [
    {
     "name": "stdout",
     "output_type": "stream",
     "text": [
      "(10, 20)\n"
     ]
    }
   ],
   "source": [
    "tuple1=(10,20,30)\n",
    "print(tuple1[:-1])"
   ]
  },
  {
   "cell_type": "code",
   "execution_count": 15,
   "metadata": {},
   "outputs": [
    {
     "name": "stdout",
     "output_type": "stream",
     "text": [
      "[(10, 20, 100), (40, 50, 100), (70, 80, 100)]\n"
     ]
    }
   ],
   "source": [
    "# 16)  Write a Python program to replace last value of tuples in a list.\n",
    "# Sample list: [(10, 20, 40), (40, 50, 60), (70, 80, 90)]\n",
    "# Expected Output: [(10, 20, 100), (40, 50, 100), (70, 80, 100)]\n",
    "\n",
    "tuple1=[(10, 20, 40), (40, 50, 60), (70, 80, 90)]\n",
    "print([t[:-1]+(100,) for t in tuple1])    ### logic for eplacing the last item of tuple in a list"
   ]
  },
  {
   "cell_type": "code",
   "execution_count": 16,
   "metadata": {},
   "outputs": [
    {
     "name": "stdout",
     "output_type": "stream",
     "text": [
      "This is a tuple: (100, 200, 300)\n"
     ]
    }
   ],
   "source": [
    "# 17) Write a Python program to print a tuple with string formatting\n",
    "#Sample tuple : (100, 200, 300)\n",
    "#Output : This is a tuple (100, 200, 300)\n",
    "\n",
    "tuple1=(100, 200, 300)\n",
    "print(\"This is a tuple: {}\".format(tuple1))"
   ]
  },
  {
   "cell_type": "code",
   "execution_count": 19,
   "metadata": {},
   "outputs": [
    {
     "name": "stdout",
     "output_type": "stream",
     "text": [
      "[('item3', 24.5), ('item2', 15.1), ('item1', 12.2)]\n"
     ]
    }
   ],
   "source": [
    "# 18) Write a Python program to sort a tuple by its float element\n",
    "# sample input: [('item1', 12.20), ('item2', 15.10), ('item3', 24.5)]\n",
    "# expected output: [('item3', 24.5), ('item2', 15.10), ('item1', 12.20)]\n",
    "\n",
    "def last(n):\n",
    "    return n[-1]\n",
    "def sort_last_tuple(tuples):\n",
    "    return sorted(tuples,key=last,reverse=True)\n",
    "list1=[('item1', 12.20), ('item2', 15.10), ('item3', 24.5)]\n",
    "print(sort_last_tuple(list1))"
   ]
  },
  {
   "cell_type": "code",
   "execution_count": 20,
   "metadata": {},
   "outputs": [
    {
     "name": "stdout",
     "output_type": "stream",
     "text": [
      "[('item3', 24.5), ('item2', 15.1), ('item1', 12.2)]\n"
     ]
    }
   ],
   "source": [
    "list1=[('item1', 12.20), ('item2', 15.10), ('item3', 24.5)]\n",
    "print(sorted(list1,key=lambda x:x[-1],reverse=True))"
   ]
  },
  {
   "cell_type": "code",
   "execution_count": 25,
   "metadata": {},
   "outputs": [
    {
     "name": "stdout",
     "output_type": "stream",
     "text": [
      "[('',), ('a', 'b'), ('a', 'b', 'c'), 'd']\n"
     ]
    }
   ],
   "source": [
    "# 19) Write a Python program to remove an empty tuple(s) from a list of tuples.\n",
    "#Sample data: [(), (), ('',), ('a', 'b'), ('a', 'b', 'c'), ('d')]\n",
    "#Expected output: [('',), ('a', 'b'), ('a', 'b', 'c'), 'd']\n",
    "\n",
    "list1= [(), (), ('',), ('a', 'b'), ('a', 'b', 'c'), ('d')]\n",
    "print([t for t in list1 if t])"
   ]
  },
  {
   "cell_type": "code",
   "execution_count": 26,
   "metadata": {},
   "outputs": [
    {
     "name": "stdout",
     "output_type": "stream",
     "text": [
      "{2: 'w', 3: 'r'}\n"
     ]
    }
   ],
   "source": [
    "# 20) Write a Python program to convert a tuple to a dictionary.\n",
    "tuple1=((2, \"w\"),(3, \"r\"))\n",
    "print(dict(tuple1))"
   ]
  },
  {
   "cell_type": "code",
   "execution_count": 11,
   "metadata": {},
   "outputs": [
    {
     "name": "stdout",
     "output_type": "stream",
     "text": [
      "{'x': [1, 2, 3], 'y': [1, 2], 'z': [1]}\n"
     ]
    }
   ],
   "source": [
    "# 21) Write a Python program to convert a list of tuples into a dictionary\n",
    "\n",
    "l = [(\"x\", 1), (\"x\", 2), (\"x\", 3), (\"y\", 1), (\"y\", 2), (\"z\", 1)]\n",
    "d=dict()\n",
    "for a,b in l:\n",
    "    d.setdefault(a,[]).append(b)\n",
    "print(d)"
   ]
  },
  {
   "cell_type": "code",
   "execution_count": 12,
   "metadata": {},
   "outputs": [
    {
     "name": "stdout",
     "output_type": "stream",
     "text": [
      "[('Akshat', 'Bro', 'is', 'Placed'), (1, 2, 3, 4)]\n",
      "[['Akshat', 'Bro', 'is', 'Placed'], [1, 2, 3, 4]]\n"
     ]
    }
   ],
   "source": [
    "# 22)  Write a Python program to unzip a list of tuples into individual lists.\n",
    "\n",
    "test_list = [('Akshat', 1), ('Bro', 2), ('is', 3), ('Placed', 4)] \n",
    "print(list(zip(*test_list)))\n",
    "\n",
    "## Alternative method ####\n",
    "test_list = [('Akshat', 1), ('Bro', 2), ('is', 3), ('Placed', 4)] \n",
    "res=[[i for i,j in test_list],[j for i,j in test_list]]\n",
    "print(res)\n",
    "\n"
   ]
  },
  {
   "cell_type": "code",
   "execution_count": 13,
   "metadata": {},
   "outputs": [
    {
     "name": "stdout",
     "output_type": "stream",
     "text": [
      "{'w': 2, 'r': 3}\n"
     ]
    }
   ],
   "source": [
    "# 23) Write a python program to convert tuple to dictionary\n",
    "\n",
    "tuplex = ((2, \"w\"),(3, \"r\"))\n",
    "d=dict()\n",
    "for i,j in tuplex:\n",
    "    d[j]=i\n",
    "print(d)"
   ]
  },
  {
   "cell_type": "code",
   "execution_count": 14,
   "metadata": {},
   "outputs": [
    {
     "name": "stdout",
     "output_type": "stream",
     "text": [
      "('HELLO', 5, [50], True)\n"
     ]
    }
   ],
   "source": [
    "# 24) Write a python program to create a colon of the tuple\n",
    "\n",
    "from copy import deepcopy\n",
    "tuplex = (\"HELLO\", 5, [], True) \n",
    "tuplex_copy=deepcopy(tuplex)\n",
    "tuplex_copy[2].append(50)\n",
    "print(tuplex_copy)"
   ]
  },
  {
   "cell_type": "code",
   "execution_count": null,
   "metadata": {},
   "outputs": [],
   "source": []
  }
 ],
 "metadata": {
  "kernelspec": {
   "display_name": "Python 3",
   "language": "python",
   "name": "python3"
  },
  "language_info": {
   "codemirror_mode": {
    "name": "ipython",
    "version": 3
   },
   "file_extension": ".py",
   "mimetype": "text/x-python",
   "name": "python",
   "nbconvert_exporter": "python",
   "pygments_lexer": "ipython3",
   "version": "3.7.1"
  }
 },
 "nbformat": 4,
 "nbformat_minor": 4
}
