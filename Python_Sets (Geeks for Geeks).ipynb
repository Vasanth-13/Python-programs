{
 "cells": [
  {
   "cell_type": "markdown",
   "metadata": {},
   "source": [
    "Python set programs (Geeks for Geeks)"
   ]
  },
  {
   "cell_type": "code",
   "execution_count": 13,
   "metadata": {},
   "outputs": [
    {
     "name": "stdout",
     "output_type": "stream",
     "text": [
      "Enter the string to check: ABeeIghiObhkUul\n",
      "Accepted\n"
     ]
    }
   ],
   "source": [
    "# 1) Python Program to accept the strings which contains all vowels\n",
    "\n",
    "str1=input(\"Enter the string to check: \").lower()\n",
    "str1=str1.strip()\n",
    "vowels,set2=set(\"aeiou\"),set()\n",
    "for char in str1:\n",
    "    if char in vowels:\n",
    "        set2.add(char)\n",
    "    else:\n",
    "        pass\n",
    "if len(set2)==len(vowels):\n",
    "    print(\"Accepted\")\n",
    "else:\n",
    "    print(\"Not Accepted\")"
   ]
  },
  {
   "cell_type": "code",
   "execution_count": 18,
   "metadata": {},
   "outputs": [
    {
     "name": "stdout",
     "output_type": "stream",
     "text": [
      "[5]\n"
     ]
    }
   ],
   "source": [
    "# 2) Python program to find common elements in three lists using sets\n",
    "\n",
    "def common_element(list1,list2,list3):\n",
    "    return list(set(list1).intersection(set(list2).intersection(set(list3))))\n",
    "    \n",
    "\n",
    "print(common_element([1, 5, 5],[3, 4, 5, 5, 10],[5, 5, 10, 20]))"
   ]
  },
  {
   "cell_type": "code",
   "execution_count": 24,
   "metadata": {},
   "outputs": [
    {
     "name": "stdout",
     "output_type": "stream",
     "text": [
      "yes\n",
      "No\n"
     ]
    }
   ],
   "source": [
    "# 3) Python set to check if string is panagram\n",
    "#      panagram -> string has 26 alphabets in it\n",
    "\n",
    "def panagram(string):\n",
    "    str1=string.lower().strip()\n",
    "    set1=set()\n",
    "    for i in str1:\n",
    "        if i==\" \":\n",
    "            pass\n",
    "        else:\n",
    "            set1.add(i)\n",
    "    if len(set1)==26:\n",
    "        return \"yes\"\n",
    "    else:\n",
    "        return \"No\"\n",
    "print(panagram(\"The quick brown fox jumps over the lazy dog\"))   # prints yes\n",
    "print(panagram(\"geeks for geeks\"))                               # prints no  "
   ]
  },
  {
   "cell_type": "code",
   "execution_count": 27,
   "metadata": {},
   "outputs": [
    {
     "name": "stdout",
     "output_type": "stream",
     "text": [
      "5\n",
      "3\n"
     ]
    }
   ],
   "source": [
    "# 4) Python program to count number of vowels using sets in given string\n",
    "\n",
    "def vowels_count(string):\n",
    "    str1=string.lower().strip()\n",
    "    vowels,count=set(\"aeiou\"),0\n",
    "    for i in str1:\n",
    "        if i in vowels:\n",
    "            count+=1\n",
    "    return count\n",
    "print(vowels_count(\"GeeksforGeeks\"))  # returns 5\n",
    "print(vowels_count(\"Hello World\"))    # returns 3\n",
    "    "
   ]
  },
  {
   "cell_type": "code",
   "execution_count": 31,
   "metadata": {},
   "outputs": [
    {
     "name": "stdout",
     "output_type": "stream",
     "text": [
      "Union between A and B: {0, 1, 2, 3, 4, 5, 6, 8}\n",
      "Intersection between A and B: {2, 4}\n",
      "Difference between A and B: {0, 8, 6}\n",
      "Difference between B and A: {1, 3, 5}\n",
      "Symmentric difference between A and B: {0, 1, 3, 5, 6, 8}\n",
      "Symmetric difference between B and A: {0, 1, 3, 5, 6, 8}\n"
     ]
    }
   ],
   "source": [
    "# 5) Perform Python set operations : Union, Iintersection, Difference, symmentric difference\n",
    "\n",
    "A = {0, 2, 4, 6, 8}\n",
    "B = {1, 2, 3, 4, 5}\n",
    "\n",
    "print(\"Union between A and B: {}\".format(A.union(B)))               #  A|B\n",
    "print(\"Intersection between A and B: {}\".format(A.intersection(B))) #  A&B\n",
    "print(\"Difference between A and B: {}\".format(A.difference(B)))     #  A-B\n",
    "print(\"Difference between B and A: {}\".format(B.difference(A)))     #  B-A\n",
    "print(\"Symmentric difference between A and B: {}\".format(A^B))      #  A^B\n",
    "print(\"Symmetric difference between B and A: {}\".format(B^A))       #  B^A"
   ]
  },
  {
   "cell_type": "code",
   "execution_count": 34,
   "metadata": {},
   "outputs": [
    {
     "name": "stdout",
     "output_type": "stream",
     "text": [
      "[10, 20, 30, 15]\n"
     ]
    }
   ],
   "source": [
    "# 6) Difference between two lists using python sets\n",
    "\n",
    "list1 = [10, 15, 20, 25, 30, 35, 40]\n",
    "list2 = [25, 40, 35] \n",
    "list1_list2=set(list1)-set(list2)\n",
    "list2_list1=set(list2)-set(list1)\n",
    "output=list(list1_list2)+list(list2_list1)\n",
    "print(output)\n",
    "\n"
   ]
  },
  {
   "cell_type": "code",
   "execution_count": 37,
   "metadata": {},
   "outputs": [
    {
     "name": "stdout",
     "output_type": "stream",
     "text": [
      "Maximum value in the set is: 65\n",
      "Minimum value in the set is: 1\n"
     ]
    }
   ],
   "source": [
    "# 7) Python | Maximum and Minimum in a Set\n",
    "\n",
    "def maximum(set1):\n",
    "    return max(set1)\n",
    "print(\"Maximum value in the set is: {}\".format(maximum({8, 16, 24, 1, 25, 3, 10, 65, 55})))\n",
    "\n",
    "def minimum(set2):\n",
    "    return min(set2)\n",
    "print(\"Minimum value in the set is: {}\".format(minimum({8, 16, 24, 1, 25, 3, 10, 65, 55})))"
   ]
  },
  {
   "cell_type": "code",
   "execution_count": 38,
   "metadata": {},
   "outputs": [
    {
     "name": "stdout",
     "output_type": "stream",
     "text": [
      "{9, 10, 12, 13, 15}\n",
      "{10, 12, 13, 15}\n",
      "{12, 13, 15}\n",
      "{13, 15}\n",
      "{15}\n",
      "set()\n",
      "None\n"
     ]
    }
   ],
   "source": [
    "# 8) Python | Remove the items from the set\n",
    "\n",
    "def remove_set(initial_set):\n",
    "    while initial_set:\n",
    "        initial_set.pop()\n",
    "        print(initial_set)\n",
    "print(remove_set(set([12, 10, 13, 15, 8, 9])))"
   ]
  },
  {
   "cell_type": "code",
   "execution_count": 1,
   "metadata": {},
   "outputs": [
    {
     "name": "stdout",
     "output_type": "stream",
     "text": [
      "Missing value in list1: [8, 7]\n",
      "Additional value in list1: [1, 2, 3]\n",
      "Missing value in list2: [1, 2, 3]\n",
      "Additional value in list2: [8, 7]\n"
     ]
    }
   ],
   "source": [
    "# 9) Python | Find missing and additional values in two lists\n",
    "\n",
    "#Input : list1 = [1, 2, 3, 4, 5, 6] \n",
    "#        list2 = [4, 5, 6, 7, 8] \n",
    "#Output : Missing values in list1 = [8, 7] \n",
    "#         Additional values in list1 = [1, 2, 3] \n",
    "#         Missing values in list2 = [1, 2, 3] \n",
    "#         Additional values in list2 = [7, 8] \n",
    "\n",
    "list1=[1, 2, 3, 4, 5, 6] \n",
    "list2=[4, 5, 6, 7, 8] \n",
    "print(\"Missing value in list1: {}\".format(list(set(list2).difference(set(list1)))))  \n",
    "print(\"Additional value in list1: {}\".format(list(set(list1).difference(set(list2)))))  \n",
    "print(\"Missing value in list2: {}\".format(list(set(list1).difference(set(list2)))))\n",
    "print(\"Additional value in list2: {}\".format(list(set(list2).difference(set(list1)))))"
   ]
  },
  {
   "cell_type": "code",
   "execution_count": 2,
   "metadata": {},
   "outputs": [
    {
     "name": "stdout",
     "output_type": "stream",
     "text": [
      "True\n",
      "False\n"
     ]
    }
   ],
   "source": [
    "# 10) Python | Check if two lists have at-least one element common\n",
    "\n",
    "def common_element(list1,list2):\n",
    "    for x in list1:\n",
    "        for y in list2:\n",
    "            if x==y:\n",
    "                return True\n",
    "    return False\n",
    "\n",
    "print(common_element([1, 2, 3, 4, 5], [5, 6, 7, 8, 9]))\n",
    "print(common_element([1, 2, 3, 4, 5],[6, 7, 8, 9]))"
   ]
  },
  {
   "cell_type": "code",
   "execution_count": 6,
   "metadata": {},
   "outputs": [
    {
     "name": "stdout",
     "output_type": "stream",
     "text": [
      "7\n",
      "None\n"
     ]
    }
   ],
   "source": [
    "# 11) Python Set | Pairs of complete strings in two sets\n",
    "\n",
    "def complete_string(set1,set2):\n",
    "    count=0\n",
    "    for i in set1:\n",
    "        for j in set2:\n",
    "            result=i+j\n",
    "            \n",
    "            temp=set([char for char in result if (ord(char)>=ord(\"a\") and ord(char)<=ord(\"z\"))])\n",
    "            if len(temp)==26:\n",
    "                count+=1\n",
    "    print(count)\n",
    "\n",
    "print(complete_string({\"abcdefgh\", \"geeksforgeeks\",\"lmnopqrst\", \"abc\"},{\"ijklmnopqrstuvwxyz\", \"abcdefghijklmnopqrstuvwxyz\", \"defghijklmnopqrstuvwxyz\"}))\n",
    "            \n",
    "    "
   ]
  },
  {
   "cell_type": "code",
   "execution_count": 7,
   "metadata": {},
   "outputs": [
    {
     "name": "stdout",
     "output_type": "stream",
     "text": [
      "Yes\n",
      "No\n"
     ]
    }
   ],
   "source": [
    "# 12) Python Set | Check whether a given string is Heterogram or not\n",
    "\n",
    "#    heterogram -> A heterogram is a word, phrase, or sentence in which no letter of the alphabet occurs more than once. \n",
    "\n",
    "def heterogram(string):\n",
    "    alphabets=[char for char in string if (ord(char)>=ord(\"a\") and ord(char)<=ord(\"z\"))]\n",
    "    \n",
    "    if len(set(alphabets))==len(alphabets):\n",
    "        return \"Yes\"\n",
    "    return \"No\"\n",
    "\n",
    "print(heterogram(\"the big dwarf only jumps\"))       # return Yes\n",
    "print(heterogram(\"geeksforgeeks\"))                  # return No"
   ]
  },
  {
   "cell_type": "code",
   "execution_count": 8,
   "metadata": {},
   "outputs": [
    {
     "name": "stdout",
     "output_type": "stream",
     "text": [
      "[1, 2, 3, 4, 5, 6, 7, 9]\n"
     ]
    }
   ],
   "source": [
    "# 13) Set update() in Python to do union of n arrays\n",
    "#   Input  : arr = [[1, 2, 2, 4, 3, 6],[5, 1, 3, 4],[9, 5, 7, 1],[2, 4, 1, 3]]  \n",
    "#   Output : [1, 2, 3, 4, 5, 6, 7, 9]\n",
    "\n",
    "def union_of_n_array(array):\n",
    "    result=set(array[0])\n",
    "    \n",
    "    for i in array[1:]:\n",
    "        result.update(i)\n",
    "    return list(result)\n",
    "\n",
    "print(union_of_n_array([[1, 2, 2, 4, 3, 6],[5, 1, 3, 4],[9, 5, 7, 1],[2, 4, 1, 3]]))"
   ]
  },
  {
   "cell_type": "code",
   "execution_count": 15,
   "metadata": {},
   "outputs": [
    {
     "name": "stdout",
     "output_type": "stream",
     "text": [
      "cbgf\n"
     ]
    }
   ],
   "source": [
    "# 14) Concatenated string with uncommon characters in Python\n",
    "\n",
    "# Input:  S1 = \"aacdb\"\n",
    "#         S2 = \"gafd\"\n",
    "# Output: \"cbgf\"\n",
    "\n",
    "def uncommon_concatenated(str1,str2):\n",
    "    set1,set2=set(str1),set(str2)\n",
    "    common=list(set1 & set2)\n",
    "    list1=[ch for ch in str1 if ch not in common]+[ch for ch in str2 if ch not in common]\n",
    "    return \"\".join(list1)\n",
    "\n",
    "print(uncommon_concatenated(\"aacdb\",\"gafd\"))\n",
    "    "
   ]
  },
  {
   "cell_type": "code",
   "execution_count": 5,
   "metadata": {},
   "outputs": [
    {
     "name": "stdout",
     "output_type": "stream",
     "text": [
      "Yes\n"
     ]
    }
   ],
   "source": [
    "# 15) Python dictionary, set and counter to check if frequencies can become same\n",
    "# Input  : str = “xyyz”\n",
    "# Output : Yes\n",
    "\"\"\"We can remove character ’y’ from above \n",
    "string to make the frequency of each \n",
    "character same.\"\"\" \n",
    "\n",
    "import collections\n",
    "\n",
    "string=\"xyyzz\"\n",
    "dict1=collections.Counter(string)\n",
    "same=list(set(dict1.values()))\n",
    "\n",
    "if len(same)>2:\n",
    "    print(\"No\")\n",
    "elif len(same)==2 and same[1]-same[0]>1:\n",
    "    print(\"No\")\n",
    "else:\n",
    "    print(\"Yes\")\n",
    "    "
   ]
  },
  {
   "cell_type": "code",
   "execution_count": 7,
   "metadata": {},
   "outputs": [
    {
     "name": "stdout",
     "output_type": "stream",
     "text": [
      "2\n"
     ]
    }
   ],
   "source": [
    "# 16)  You are given an array of n-element. \n",
    "#      You have to make subsets from the array such that no subset contain duplicate elements. \n",
    "#      Find out minimum number of subset possible.\n",
    "\n",
    "from collections import Counter\n",
    "def subset(input_1):\n",
    "    freq_dict=Counter(input_1)\n",
    "    return max(set(freq_dict.values()))\n",
    "\n",
    "print(subset([1,2,3,3]))"
   ]
  },
  {
   "cell_type": "code",
   "execution_count": 9,
   "metadata": {},
   "outputs": [
    {
     "name": "stdout",
     "output_type": "stream",
     "text": [
      "[1]\n",
      "[6]\n"
     ]
    }
   ],
   "source": [
    "# 17) Python Set difference to find lost element from a duplicated array\n",
    "\n",
    "#   Input:  A = [1, 4, 5, 7, 9]\n",
    "#           B = [4, 5, 7, 9]\n",
    "#   Output: [1]\n",
    "\n",
    "def lost_element(arr1,arr2):\n",
    "    return list(set(arr1)^set(arr2))          # symmentric difference\n",
    "\n",
    "print(lost_element([1, 4, 5, 7, 9],[4, 5, 7, 9]))\n",
    "print(lost_element([2, 3, 4, 5],[2, 3, 4, 5, 6]))"
   ]
  },
  {
   "cell_type": "code",
   "execution_count": 15,
   "metadata": {},
   "outputs": [
    {
     "name": "stdout",
     "output_type": "stream",
     "text": [
      "[(1, 2), (1, 3), (2, 3)]\n",
      "[(1, 2, 3), (1, 2, 4), (1, 3, 4), (2, 3, 4)]\n"
     ]
    }
   ],
   "source": [
    "# 18) Python program to get all subsets of given size of a set\n",
    "\n",
    "#Input : {1, 2, 3}, n = 2\n",
    "#Output : [{1, 2}, {1, 3}, {2, 3}]\n",
    "\n",
    "#Input : {1, 2, 3, 4}, n = 3\n",
    "#Output : [{1, 2, 3}, {1, 2, 4}, {1, 3, 4}, {2, 3, 4}]\n",
    "\n",
    "from itertools import combinations\n",
    "\n",
    "def possible_subset(s,n):\n",
    "    return list(combinations(s,n))\n",
    "\n",
    "print(possible_subset({1, 2, 3},2))\n",
    "print(possible_subset({1, 2, 3, 4},3))"
   ]
  },
  {
   "cell_type": "code",
   "execution_count": null,
   "metadata": {},
   "outputs": [],
   "source": []
  }
 ],
 "metadata": {
  "kernelspec": {
   "display_name": "Python 3",
   "language": "python",
   "name": "python3"
  },
  "language_info": {
   "codemirror_mode": {
    "name": "ipython",
    "version": 3
   },
   "file_extension": ".py",
   "mimetype": "text/x-python",
   "name": "python",
   "nbconvert_exporter": "python",
   "pygments_lexer": "ipython3",
   "version": "3.7.1"
  }
 },
 "nbformat": 4,
 "nbformat_minor": 4
}
