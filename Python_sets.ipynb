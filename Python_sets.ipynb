{
 "cells": [
  {
   "cell_type": "markdown",
   "metadata": {},
   "source": [
    "Python sets\n"
   ]
  },
  {
   "cell_type": "code",
   "execution_count": 2,
   "metadata": {},
   "outputs": [
    {
     "name": "stdout",
     "output_type": "stream",
     "text": [
      "set()\n",
      "<class 'set'>\n"
     ]
    }
   ],
   "source": [
    "# 1)write a python program to create a set\n",
    "\n",
    "set1=set()\n",
    "print(set1)\n",
    "print(type(set1))"
   ]
  },
  {
   "cell_type": "code",
   "execution_count": 12,
   "metadata": {},
   "outputs": [
    {
     "name": "stdout",
     "output_type": "stream",
     "text": [
      "{1, 2, 3, 4, 5, 8}\n",
      "{1, 2, 3, 4, 5, 6, 7, 8, 9}\n",
      "{1, 2, 3, 'r', 4, 5, 'o', 'w', 'e', 'l'}\n"
     ]
    }
   ],
   "source": [
    "# 2) Write a python program to add members in a set\n",
    "\n",
    "# to add one item in the set use add function\n",
    "set1={1,2,3,4,5}\n",
    "set1.add(8)\n",
    "set1.add(3)\n",
    "print(set1)\n",
    "\n",
    "# To add more than one item in the set use update function\n",
    "set1={1,2,3,4,5}\n",
    "set2={5,6,7,8,9}\n",
    "set1.update(set2)\n",
    "print(set1)\n",
    "\n",
    "\n",
    "set1={\"e\",\"r\",\"w\",\"l\",\"o\"}\n",
    "set1.update([1,2,3,4,5])\n",
    "print(set1)"
   ]
  },
  {
   "cell_type": "code",
   "execution_count": 6,
   "metadata": {},
   "outputs": [
    {
     "name": "stdout",
     "output_type": "stream",
     "text": [
      "{'d', 'q', 'e', 'a', 'b', 'v'}\n",
      "{'d', 'q', 'e', 'a', 'v'}\n",
      "{'q', 'e', 'a', 'v'}\n",
      "{'q', 'e', 'a'}\n",
      "{'q', 'e', 'a'}\n"
     ]
    }
   ],
   "source": [
    "# 3) Write a Python program to remove item(s) from set\n",
    "\n",
    "set1={\"a\",\"b\",\"v\",\"d\",\"e\",\"q\"}\n",
    "print(set1)\n",
    "set1.remove(\"b\")\n",
    "print(set1)\n",
    "set1.pop()\n",
    "print(set1)\n",
    "set1.discard(\"v\")\n",
    "print(set1)\n",
    "set1.discard(\"m\")\n",
    "print(set1)"
   ]
  },
  {
   "cell_type": "code",
   "execution_count": 9,
   "metadata": {},
   "outputs": [
    {
     "name": "stdout",
     "output_type": "stream",
     "text": [
      "{1, 2, 3, 4, 5, 6}\n",
      "6\n"
     ]
    }
   ],
   "source": [
    "# 4) Write a python program to find the length of a set\n",
    "\n",
    "set1={1,2,3,4,5,3,4,6}\n",
    "print(set1)   # set avoid duplicates\n",
    "print(len(set1))"
   ]
  },
  {
   "cell_type": "code",
   "execution_count": 14,
   "metadata": {},
   "outputs": [
    {
     "name": "stdout",
     "output_type": "stream",
     "text": [
      "None\n",
      "set()\n"
     ]
    }
   ],
   "source": [
    "# 5) Write a python program to clear the set\n",
    "set1={1,2,3,4,5,6}\n",
    "set1.clear()\n",
    "print(set1.clear())  #Returns None\n",
    "print(set1)"
   ]
  },
  {
   "cell_type": "code",
   "execution_count": 15,
   "metadata": {},
   "outputs": [
    {
     "name": "stdout",
     "output_type": "stream",
     "text": [
      "Original_set: {1, 2, 3, 4, 5, 6}\n",
      "Frozen_set: frozenset({1, 2, 3, 4, 5, 6})\n",
      "<class 'set'>\n",
      "<class 'frozenset'>\n"
     ]
    }
   ],
   "source": [
    "# 6) Write a python program to use frozensets\n",
    "\n",
    "set1={1,2,3,4,5,6}\n",
    "set2=frozenset(set1)\n",
    "print(\"Original_set: {}\".format(set1))\n",
    "print(\"Frozen_set: {}\".format(set2))\n",
    "print(type(set1))\n",
    "print(type(set2))"
   ]
  },
  {
   "cell_type": "code",
   "execution_count": 16,
   "metadata": {},
   "outputs": [
    {
     "name": "stdout",
     "output_type": "stream",
     "text": [
      "Maximum value in the set: 8\n",
      "Minimum value in the set: 1\n"
     ]
    }
   ],
   "source": [
    "# 7) Write a Python program to find maximum and the minimum value in a set\n",
    "\n",
    "set1={1,2,3,4,5,6,7,8,7,6,5,4,3}\n",
    "print(\"Maximum value in the set: {}\".format(max(set1)))\n",
    "print(\"Minimum value in the set: {}\".format(min(set1)))"
   ]
  },
  {
   "cell_type": "code",
   "execution_count": 17,
   "metadata": {},
   "outputs": [
    {
     "name": "stdout",
     "output_type": "stream",
     "text": [
      "Original set: {1, 2, 3, 4, 5}\n",
      "Shallow copy of the set: {1, 2, 3, 4, 5}\n",
      "False\n"
     ]
    }
   ],
   "source": [
    "# 8) Write a python program to create a shallow copy of sets\n",
    "\n",
    "set1={1,2,3,4,5}\n",
    "set2=set1.copy()\n",
    "print(\"Original set: {}\".format(set1))            #original set\n",
    "print(\"Shallow copy of the set: {}\".format(set2)) # shallow copy\n",
    "print(id(set1)==id(set2))                         #Returns False"
   ]
  },
  {
   "cell_type": "code",
   "execution_count": 18,
   "metadata": {},
   "outputs": [
    {
     "name": "stdout",
     "output_type": "stream",
     "text": [
      "{5, 6}\n"
     ]
    }
   ],
   "source": [
    "# 9) Write a Python program to find to create an intersection of sets\n",
    "\n",
    "set1={1,2,3,4,5,6}\n",
    "set2={5,6,0,9}\n",
    "print(set1.intersection(set2))   #returns common value in both sets"
   ]
  },
  {
   "cell_type": "code",
   "execution_count": 19,
   "metadata": {},
   "outputs": [
    {
     "name": "stdout",
     "output_type": "stream",
     "text": [
      "{0, 1, 2, 3, 4, 5, 6, 9}\n"
     ]
    }
   ],
   "source": [
    "# 10) Write a python program to create a union of sets\n",
    "\n",
    "set1={1,2,3,4,5,6}\n",
    "set2={5,6,0,9}\n",
    "print(set1.union(set2))         # returns all values of the two sets"
   ]
  },
  {
   "cell_type": "code",
   "execution_count": 20,
   "metadata": {},
   "outputs": [
    {
     "name": "stdout",
     "output_type": "stream",
     "text": [
      "banana\n",
      "apple\n",
      "pineapple\n"
     ]
    }
   ],
   "source": [
    "# 11) Write a Python program to iteration over sets\n",
    "\n",
    "set1={\"apple\",\"banana\",\"pineapple\"}\n",
    "for i in set1:\n",
    "    print(i)"
   ]
  },
  {
   "cell_type": "code",
   "execution_count": 23,
   "metadata": {},
   "outputs": [
    {
     "name": "stdout",
     "output_type": "stream",
     "text": [
      "{0, 1, 2, 3, 4, 5, 6, 8}\n",
      "Enter the item which you want to remove: 4\n",
      "{0, 1, 2, 3, 5, 6, 8}\n"
     ]
    }
   ],
   "source": [
    "# 12) Write a Python program to remove an item from a set if it is present in the set\n",
    "\n",
    "set1={1,2,3,4,5,6,4,8,0}\n",
    "print(set1)\n",
    "item=int(input(\"Enter the item which you want to remove: \"))\n",
    "set1.discard(item)   #if the item is present in the set1,it removes.Else it returns the original set\n",
    "print(set1) "
   ]
  },
  {
   "cell_type": "code",
   "execution_count": 26,
   "metadata": {},
   "outputs": [
    {
     "name": "stdout",
     "output_type": "stream",
     "text": [
      "{8, 3, 5}\n",
      "{6}\n"
     ]
    }
   ],
   "source": [
    "# 13) Write a Python program to create set difference\n",
    "\n",
    "set1={1,2,3,4,5,8}\n",
    "set2={2,4,1,6}\n",
    "print(set1.difference(set2))\n",
    "print(set2.difference(set1))"
   ]
  },
  {
   "cell_type": "code",
   "execution_count": 31,
   "metadata": {},
   "outputs": [
    {
     "name": "stdout",
     "output_type": "stream",
     "text": [
      "{4, 7}\n",
      "{4, 7}\n"
     ]
    }
   ],
   "source": [
    "# 14) Write a Python program to create a symmetric difference\n",
    "# symmentric difference -> removes the common items in both the sets \n",
    "set1={1,2,3,4,5}\n",
    "set2={1,3,5,2,7}\n",
    "set3=set1.symmetric_difference(set2)\n",
    "set4=set2.symmetric_difference(set1)\n",
    "print(set3)\n",
    "print(set4)"
   ]
  },
  {
   "cell_type": "code",
   "execution_count": 33,
   "metadata": {},
   "outputs": [
    {
     "name": "stdout",
     "output_type": "stream",
     "text": [
      "False\n",
      "True\n"
     ]
    }
   ],
   "source": [
    "# 15) Write a python program to whether the given set is the subset of the original set\n",
    "\n",
    "set1={1,2,3,4,5,6} # original set\n",
    "set2={2,4,1,6}  \n",
    "print(set1.issubset(set2))\n",
    "print(set2.issubset(set1))"
   ]
  },
  {
   "cell_type": "code",
   "execution_count": null,
   "metadata": {},
   "outputs": [],
   "source": []
  }
 ],
 "metadata": {
  "kernelspec": {
   "display_name": "Python 3",
   "language": "python",
   "name": "python3"
  },
  "language_info": {
   "codemirror_mode": {
    "name": "ipython",
    "version": 3
   },
   "file_extension": ".py",
   "mimetype": "text/x-python",
   "name": "python",
   "nbconvert_exporter": "python",
   "pygments_lexer": "ipython3",
   "version": "3.7.1"
  }
 },
 "nbformat": 4,
 "nbformat_minor": 4
}
